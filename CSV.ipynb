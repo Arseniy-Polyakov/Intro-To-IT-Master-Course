{
 "cells": [
  {
   "cell_type": "markdown",
   "metadata": {},
   "source": [
    "1. Write a Python program to read each row from a given csv file and print a list of strings."
   ]
  },
  {
   "cell_type": "code",
   "execution_count": null,
   "metadata": {},
   "outputs": [],
   "source": [
    "with open(\"employees.csv\", \"rt\", encoding=\"utf-8\") as file:\n",
    "    file = file.readlines()\n",
    "    for line in file:\n",
    "        print(line)"
   ]
  },
  {
   "cell_type": "markdown",
   "metadata": {},
   "source": [
    "2. Write a Python program to read a given CSV file having tab delimiter."
   ]
  },
  {
   "cell_type": "code",
   "execution_count": null,
   "metadata": {},
   "outputs": [],
   "source": [
    "import csv\n",
    "with open(\"countries.csv\", \"rt\", encoding=\"utf-8\") as file:\n",
    "    result = csv.reader(file, delimiter=\"\\t\")\n",
    "    for line in result:\n",
    "        print(\",\".join(line))"
   ]
  },
  {
   "cell_type": "markdown",
   "metadata": {},
   "source": [
    "3. Write a Python program to read a given CSV file as a list."
   ]
  },
  {
   "cell_type": "code",
   "execution_count": null,
   "metadata": {},
   "outputs": [],
   "source": [
    "with open(\"employees.csv\", \"rt\", encoding=\"utf-8\") as file:\n",
    "    file = csv.reader(file, delimiter=\",\")\n",
    "    for line in file:\n",
    "        print(\",\".join(line))"
   ]
  },
  {
   "cell_type": "markdown",
   "metadata": {},
   "source": [
    "4. Write a Python program to read a given CSV file as a dictionary."
   ]
  },
  {
   "cell_type": "code",
   "execution_count": null,
   "metadata": {},
   "outputs": [],
   "source": [
    "with open(\"employees.csv\", \"rt\", encoding=\"utf-8\") as file:\n",
    "    file = csv.DictReader(file, delimiter=\",\")\n",
    "    for line in file:\n",
    "        print(line)"
   ]
  },
  {
   "cell_type": "markdown",
   "metadata": {},
   "source": [
    "5. Write a Python program to read a given CSV files with initial spaces after a delimiter and remove those initial spaces."
   ]
  },
  {
   "cell_type": "code",
   "execution_count": null,
   "metadata": {},
   "outputs": [],
   "source": [
    "with open(\"departments.csv\", \"rt\", encoding=\"utf-8\") as file:\n",
    "    file = csv.reader(file, delimiter=\",\", skipinitialspace=True)\n",
    "    for line in file:\n",
    "        print(\",\".join(line))"
   ]
  },
  {
   "cell_type": "markdown",
   "metadata": {},
   "source": [
    "6. Write a Python program that reads a CSV file and remove initial spaces, quotes around each entry and the delimiter."
   ]
  },
  {
   "cell_type": "code",
   "execution_count": null,
   "metadata": {},
   "outputs": [],
   "source": [
    "with open(\"temp.csv\", \"rt\", encoding=\"utf-8\") as file:\n",
    "    file = csv.reader(file, delimiter=\"|\", skipinitialspace=True, quoting=csv.QUOTE_ALL)\n",
    "    for line in file:\n",
    "        print(line)"
   ]
  },
  {
   "cell_type": "markdown",
   "metadata": {},
   "source": [
    "7. Write a Python program to read specific columns of a given CSV file and print the content of the columns."
   ]
  },
  {
   "cell_type": "code",
   "execution_count": null,
   "metadata": {},
   "outputs": [],
   "source": [
    "with open(\"departments.csv\", \"rt\", encoding=\"utf-8\") as file:\n",
    "    file = csv.DictReader(file, delimiter=\",\")\n",
    "    for line in file:\n",
    "        print(line[\"department_id\"])"
   ]
  },
  {
   "cell_type": "markdown",
   "metadata": {},
   "source": [
    "8. Write a Python program that reads each row of a given csv file and skip the header of the file. Also print the number of rows and the field names."
   ]
  },
  {
   "cell_type": "code",
   "execution_count": null,
   "metadata": {},
   "outputs": [],
   "source": [
    "with open(\"countries.csv\", \"rt\", encoding=\"utf-8\") as file:\n",
    "    file = csv.reader(file, delimiter=\" \")\n",
    "    file = list(file)\n",
    "    rows, cols = 0, 0\n",
    "    for i in range(1, len(file)):\n",
    "        rows += 1\n",
    "        print(\" \".join(file[i]))\n",
    "    cols = len(str(file[i]).split())\n",
    "    print(f\"Number of rows {rows}\\nNumber of cols {cols}\")"
   ]
  },
  {
   "cell_type": "markdown",
   "metadata": {},
   "source": [
    "9. Write a Python program to create an object for writing and iterate over the rows to print the values."
   ]
  },
  {
   "cell_type": "code",
   "execution_count": null,
   "metadata": {},
   "outputs": [],
   "source": [
    "with open(\"temp_2.csv\", \"wt\", encoding=\"utf-8\") as file:\n",
    "    fieldnames = {\"country_id\", \"country_name\"}\n",
    "    file = csv.DictWriter(file, fieldnames=fieldnames)\n",
    "    file.writeheader()\n",
    "    file.writerow({\"country_id\": 1, \"country_name\": \"Albania\"})\n",
    "\n",
    "with open(\"temp_2.csv\", \"rt\", encoding=\"utf-8\") as file:\n",
    "    file = csv.reader(file, delimiter=\",\")\n",
    "    for line in file:\n",
    "        print(\", \".join(line))\n"
   ]
  },
  {
   "cell_type": "markdown",
   "metadata": {},
   "source": [
    "10. Write a Python program to write a Python list of lists to a csv file. After writing the CSV file read the CSV file and display the content."
   ]
  },
  {
   "cell_type": "code",
   "execution_count": null,
   "metadata": {},
   "outputs": [],
   "source": [
    "regions_list = [[\"region_id\", \"region_name\"], [\"Moscow\", 177], [\"Saint Petersburg\", 178], [\"Rostov-on-Don\", 161]]\n",
    "with open(\"regions.csv\", \"wt\", encoding=\"utf-8\") as file:\n",
    "    file = csv.DictWriter(file, fieldnames={regions_list[0][0], regions_list[0][1]})\n",
    "    file.writeheader()\n",
    "    for i in range(1, len(regions_list)):\n",
    "        file.writerow({regions_list[0][0]: regions_list[i][0], regions_list[0][1]: regions_list[i][1]})\n",
    "\n",
    "with open(\"regions.csv\", \"rt\", encoding=\"utf-8\") as file:\n",
    "    file = csv.reader(file, delimiter=\",\")\n",
    "    for line in file:\n",
    "        if line:\n",
    "            print(\", \".join(line))\n",
    "    \n",
    "\n",
    "    "
   ]
  },
  {
   "cell_type": "markdown",
   "metadata": {},
   "source": [
    "11. Write a Python program to write a Python dictionary to a csv file. After writing the CSV file read the CSV file and display the content."
   ]
  },
  {
   "cell_type": "code",
   "execution_count": null,
   "metadata": {},
   "outputs": [],
   "source": [
    "data = {\"Andrew\": 5, \"Tom\": 3, \"Jane\": 4, \"Scarlett\": 5}\n",
    "fieldnames = [\"Name\", \"Mark\"]\n",
    "with open(\"marks.csv\", \"wt\", encoding=\"utf-8\") as file:\n",
    "    file = csv.DictWriter(file, fieldnames=fieldnames)\n",
    "    file.writeheader()\n",
    "    for line in data.items():\n",
    "        file.writerow({fieldnames[0]: line[0], fieldnames[1]: line[1]})\n",
    "\n",
    "with open(\"marks.csv\", \"rt\", encoding=\"utf-8\") as file:\n",
    "    file = csv.reader(file, delimiter=\",\")\n",
    "    for line in file:\n",
    "        if line:\n",
    "            print(\", \".join(line))"
   ]
  }
 ],
 "metadata": {
  "kernelspec": {
   "display_name": "Python 3",
   "language": "python",
   "name": "python3"
  },
  "language_info": {
   "codemirror_mode": {
    "name": "ipython",
    "version": 3
   },
   "file_extension": ".py",
   "mimetype": "text/x-python",
   "name": "python",
   "nbconvert_exporter": "python",
   "pygments_lexer": "ipython3",
   "version": "3.12.6"
  }
 },
 "nbformat": 4,
 "nbformat_minor": 2
}
