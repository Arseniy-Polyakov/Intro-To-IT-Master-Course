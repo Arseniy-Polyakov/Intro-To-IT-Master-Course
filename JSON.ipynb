{
 "cells": [
  {
   "cell_type": "markdown",
   "metadata": {},
   "source": [
    "1. Write a json program to convert JSON data to json object."
   ]
  },
  {
   "cell_type": "code",
   "execution_count": null,
   "metadata": {},
   "outputs": [],
   "source": [
    "import json \n",
    "json_object = \"\"\"{\"Russia\": \"Moscow\", \"The USA\": \"Washington\", \"The UK\": \"London\", \"Germany\": \"Berlin\"}\"\"\"\n",
    "python_object = json.loads(json_object)\n",
    "print(python_object)\n",
    "print(type(python_object))"
   ]
  },
  {
   "cell_type": "markdown",
   "metadata": {},
   "source": [
    "2. Write a json program to convert json object to JSON data."
   ]
  },
  {
   "cell_type": "code",
   "execution_count": null,
   "metadata": {},
   "outputs": [],
   "source": [
    "python_object = {\"Russia\": \"Moscow\", \"The USA\": \"Washington\", \"The UK\": \"London\", \"Germany\": \"Berlin\"}\n",
    "json_object = json.dumps(python_object)\n",
    "print(json_object)\n",
    "print(type(json_object))"
   ]
  },
  {
   "cell_type": "markdown",
   "metadata": {},
   "source": [
    "3. Write a json program to convert json objects into JSON strings. Print all the values."
   ]
  },
  {
   "cell_type": "code",
   "execution_count": null,
   "metadata": {},
   "outputs": [],
   "source": [
    "python_object_int = 7\n",
    "python_object_float = -18.9\n",
    "python_object_str = \"json objects\"\n",
    "python_object_tuple = (\"json\", \"csv\", \"xml\")\n",
    "python_object_list = [\"html\", \"ssml\", \"bml\"]\n",
    "python_object_dict = {\"json\": \"interpret\", \"C++\": \"compile\"}\n",
    "\n",
    "print(type(python_object_int))\n",
    "print(type(python_object_float))\n",
    "print(type(python_object_str))\n",
    "print(type(python_object_tuple))\n",
    "print(type(python_object_list))\n",
    "print(type(python_object_dict))\n",
    "\n",
    "json_object_int = json.dumps(python_object_int)\n",
    "json_object_float = json.dumps(python_object_float)\n",
    "json_object_str = json.dumps(python_object_str)\n",
    "json_object_tuple = json.dumps(python_object_tuple)\n",
    "json_object_list = json.dumps(python_object_list)\n",
    "json_object_dict = json.dumps(python_object_dict)\n",
    "\n",
    "print()\n",
    "print(type(json_object_int))\n",
    "print(type(json_object_float))\n",
    "print(type(json_object_str))\n",
    "print(type(json_object_tuple))\n",
    "print(type(json_object_list))\n",
    "print(type(json_object_dict))\n"
   ]
  },
  {
   "cell_type": "markdown",
   "metadata": {},
   "source": [
    "4. Write a Python program to convert Python dictionary object (sort by key) to JSON data. Print the object members with indent level 4."
   ]
  },
  {
   "cell_type": "code",
   "execution_count": null,
   "metadata": {},
   "outputs": [],
   "source": [
    "dict_object = {\"Tom\": 5, \"Jesica\": 4, \"Pol\": 3, \"Monika\": 5, \"James\": 2}\n",
    "json_object = json.dumps(dict_object, sort_keys=True, indent=4)\n",
    "print(json_object)\n",
    "print(type(json_object))"
   ]
  },
  {
   "cell_type": "markdown",
   "metadata": {},
   "source": [
    "5. Write a Python program to convert JSON encoded data into Python objects."
   ]
  },
  {
   "cell_type": "code",
   "execution_count": null,
   "metadata": {},
   "outputs": [],
   "source": [
    "json_object_int = \"7\"\n",
    "json_object_float = \"-18.9\"\n",
    "\n",
    "print(type(json_object_int))\n",
    "print(type(json_object_float))\n",
    "\n",
    "python_object_int = json.loads(json_object_int)\n",
    "python_object_float = json.loads(json_object_float)\n",
    "\n",
    "print()\n",
    "print(type(python_object_int))\n",
    "print(type(python_object_float))\n",
    "\n"
   ]
  },
  {
   "cell_type": "markdown",
   "metadata": {},
   "source": [
    "6. Write a Python program to create a new JSON file from an existing JSON file."
   ]
  },
  {
   "cell_type": "code",
   "execution_count": 77,
   "metadata": {},
   "outputs": [],
   "source": [
    "with open(\"JSON/JSON.file.json\", \"rt\", encoding=\"utf-8\") as file:\n",
    "    file = json.load(file)\n",
    "\n",
    "with open(\"JSON/JSON.file_2.json\", \"wt\", encoding=\"utf-8\") as file_2:\n",
    "    file = json.dump(file, file_2, indent=4)\n"
   ]
  },
  {
   "cell_type": "markdown",
   "metadata": {},
   "source": [
    "7. Write a Python program to check whether an instance is complex or not."
   ]
  },
  {
   "cell_type": "code",
   "execution_count": 79,
   "metadata": {},
   "outputs": [
    {
     "name": "stdout",
     "output_type": "stream",
     "text": [
      "2.0 3.0\n"
     ]
    }
   ],
   "source": [
    "complex_object = 2 + 3j\n",
    "try:\n",
    "    if isinstance(complex_object, complex):\n",
    "        a, b = complex_object.real, complex_object.imag\n",
    "except:\n",
    "    print(\"Type Error\")\n",
    "print(a, b)"
   ]
  },
  {
   "cell_type": "markdown",
   "metadata": {},
   "source": [
    "8. Write a Python program to check whether a JSON string contains complex object or not."
   ]
  },
  {
   "cell_type": "code",
   "execution_count": 107,
   "metadata": {},
   "outputs": [
    {
     "name": "stdout",
     "output_type": "stream",
     "text": [
      "Contains complex objects\n"
     ]
    }
   ],
   "source": [
    "import re\n",
    "json_object = '456j + 56'\n",
    "if re.match(r\"\\d* ?\\+? ?\\d+j\", json_object):\n",
    "    print(\"Contains complex objects\")\n",
    "else:\n",
    "    print(\"Does not contains complex objects\")\n"
   ]
  },
  {
   "cell_type": "markdown",
   "metadata": {},
   "source": [
    "9. Write a Python program to access only unique key value of a Python object."
   ]
  },
  {
   "cell_type": "code",
   "execution_count": 60,
   "metadata": {},
   "outputs": [
    {
     "name": "stdout",
     "output_type": "stream",
     "text": [
      "{'a': 89, 'b': 9}\n"
     ]
    }
   ],
   "source": [
    "data = \"\"\"{\"a\": 12, \"b\": 15, \"a\": 16, \"b\": 9, \"a\": 89}\"\"\"\n",
    "data = json.loads(data)\n",
    "\n",
    "print(data)"
   ]
  }
 ],
 "metadata": {
  "kernelspec": {
   "display_name": "Python 3",
   "language": "python",
   "name": "python3"
  },
  "language_info": {
   "codemirror_mode": {
    "name": "ipython",
    "version": 3
   },
   "file_extension": ".py",
   "mimetype": "text/x-python",
   "name": "python",
   "nbconvert_exporter": "python",
   "pygments_lexer": "ipython3",
   "version": "3.12.6"
  }
 },
 "nbformat": 4,
 "nbformat_minor": 2
}
