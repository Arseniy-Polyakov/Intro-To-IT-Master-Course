{
 "cells": [
  {
   "cell_type": "markdown",
   "metadata": {},
   "source": [
    "1. Write a json program to convert JSON data to json object."
   ]
  },
  {
   "cell_type": "code",
   "execution_count": 13,
   "metadata": {},
   "outputs": [
    {
     "name": "stdout",
     "output_type": "stream",
     "text": [
      "{'Russia': 'Moscow', 'The USA': 'Washington', 'The UK': 'London', 'Germany': 'Berlin'}\n",
      "<class 'dict'>\n"
     ]
    }
   ],
   "source": [
    "import json \n",
    "json_object = \"\"\"{\"Russia\": \"Moscow\", \"The USA\": \"Washington\", \"The UK\": \"London\", \"Germany\": \"Berlin\"}\"\"\"\n",
    "python_object = json.loads(json_object)\n",
    "print(python_object)\n",
    "print(type(python_object))"
   ]
  },
  {
   "cell_type": "markdown",
   "metadata": {},
   "source": [
    "2. Write a json program to convert json object to JSON data."
   ]
  },
  {
   "cell_type": "code",
   "execution_count": 14,
   "metadata": {},
   "outputs": [
    {
     "name": "stdout",
     "output_type": "stream",
     "text": [
      "{\"Russia\": \"Moscow\", \"The USA\": \"Washington\", \"The UK\": \"London\", \"Germany\": \"Berlin\"}\n",
      "<class 'str'>\n"
     ]
    }
   ],
   "source": [
    "python_object = {\"Russia\": \"Moscow\", \"The USA\": \"Washington\", \"The UK\": \"London\", \"Germany\": \"Berlin\"}\n",
    "json_object = json.dumps(python_object)\n",
    "print(json_object)\n",
    "print(type(json_object))"
   ]
  },
  {
   "cell_type": "markdown",
   "metadata": {},
   "source": [
    "3. Write a json program to convert json objects into JSON strings. Print all the values."
   ]
  },
  {
   "cell_type": "code",
   "execution_count": null,
   "metadata": {},
   "outputs": [],
   "source": [
    "python_object_int = 7\n",
    "python_object_float = -18.9\n",
    "python_object_str = \"json objects\"\n",
    "python_object_tuple = (\"json\", \"csv\", \"xml\")\n",
    "python_object_list = [\"html\", \"ssml\", \"bml\"]\n",
    "python_object_dict = {\"json\": \"interpret\", \"C++\": \"compile\"}\n",
    "\n",
    "print(type(python_object_int))\n",
    "print(type(python_object_float))\n",
    "print(type(python_object_str))\n",
    "print(type(python_object_tuple))\n",
    "print(type(python_object_list))\n",
    "print(type(python_object_dict))\n",
    "\n",
    "json_object_int = json.dumps(python_object_int)\n",
    "json_object_float = json.dumps(python_object_float)\n",
    "json_object_str = json.dumps(python_object_str)\n",
    "json_object_tuple = json.dumps(python_object_tuple)\n",
    "json_object_list = json.dumps(python_object_list)\n",
    "json_object_dict = json.dumps(python_object_dict)\n",
    "\n",
    "print()\n",
    "print(type(json_object_int))\n",
    "print(type(json_object_float))\n",
    "print(type(json_object_str))\n",
    "print(type(json_object_tuple))\n",
    "print(type(json_object_list))\n",
    "print(type(json_object_dict))\n"
   ]
  },
  {
   "cell_type": "markdown",
   "metadata": {},
   "source": [
    "4. Write a Python program to convert Python dictionary object (sort by key) to JSON data. Print the object members with indent level 4."
   ]
  },
  {
   "cell_type": "code",
   "execution_count": 31,
   "metadata": {},
   "outputs": [
    {
     "name": "stdout",
     "output_type": "stream",
     "text": [
      "{\n",
      "    \"James\": 2,\n",
      "    \"Jesica\": 4,\n",
      "    \"Monika\": 5,\n",
      "    \"Pol\": 3,\n",
      "    \"Tom\": 5\n",
      "}\n",
      "<class 'str'>\n"
     ]
    }
   ],
   "source": [
    "dict_object = {\"Tom\": 5, \"Jesica\": 4, \"Pol\": 3, \"Monika\": 5, \"James\": 2}\n",
    "json_object = json.dumps(dict_object, sort_keys=True, indent=4)\n",
    "print(json_object)\n",
    "print(type(json_object))"
   ]
  },
  {
   "cell_type": "markdown",
   "metadata": {},
   "source": [
    " 5. Write a Python program to convert JSON encoded data into Python objects."
   ]
  },
  {
   "cell_type": "code",
   "execution_count": null,
   "metadata": {},
   "outputs": [],
   "source": [
    "json_object_int = \"7\"\n",
    "json_object_float = \"-18.9\"\n",
    "\n",
    "print(type(json_object_int))\n",
    "print(type(json_object_float))\n",
    "\n",
    "python_object_int = json.loads(json_object_int)\n",
    "python_object_float = json.loads(json_object_float)\n",
    "\n",
    "print()\n",
    "print(type(python_object_int))\n",
    "print(type(python_object_float))\n",
    "\n"
   ]
  }
 ],
 "metadata": {
  "kernelspec": {
   "display_name": "Python 3",
   "language": "python",
   "name": "python3"
  },
  "language_info": {
   "codemirror_mode": {
    "name": "ipython",
    "version": 3
   },
   "file_extension": ".py",
   "mimetype": "text/x-python",
   "name": "python",
   "nbconvert_exporter": "python",
   "pygments_lexer": "ipython3",
   "version": "3.12.6"
  }
 },
 "nbformat": 4,
 "nbformat_minor": 2
}
