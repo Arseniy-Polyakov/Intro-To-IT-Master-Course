{
 "cells": [
  {
   "cell_type": "markdown",
   "metadata": {},
   "source": [
    "1 Task: Find all words in a string that start with a capital letter.\n",
    "\t\"Hello world, this is a Regex example with Python.\""
   ]
  },
  {
   "cell_type": "code",
   "execution_count": 52,
   "metadata": {},
   "outputs": [
    {
     "name": "stdout",
     "output_type": "stream",
     "text": [
      "['Hello', 'Regex', 'Python']\n"
     ]
    }
   ],
   "source": [
    "import re \n",
    "string = \"Hello world, this is a Regex example with Python.\"\n",
    "final = re.findall(r\"\\b[A-Z][a-z]+\\b\", string)\n",
    "print(final)"
   ]
  },
  {
   "cell_type": "markdown",
   "metadata": {},
   "source": [
    "2 Task: Replace all instances of \"is\" with \"was\" in the string.\n",
    "\t\"This is a test. This is only a test.\""
   ]
  },
  {
   "cell_type": "code",
   "execution_count": 53,
   "metadata": {},
   "outputs": [
    {
     "name": "stdout",
     "output_type": "stream",
     "text": [
      "This was a test. This was only a test.\n"
     ]
    }
   ],
   "source": [
    "import re\n",
    "string = \"This is a test. This is only a test.\"\n",
    "final = re.sub(r\"\\bis\\b\", r\"was\", string)\n",
    "print(final)"
   ]
  },
  {
   "cell_type": "markdown",
   "metadata": {},
   "source": [
    "3 Task: Extract All URLs from a Text\n",
    "\"\"\"\n",
    "Visit https://www.example.com or follow http://example.org.\n",
    "You can also check out https://another-example.com/path?arg=val for more details.\n",
    "\"\"\""
   ]
  },
  {
   "cell_type": "code",
   "execution_count": 105,
   "metadata": {},
   "outputs": [
    {
     "name": "stdout",
     "output_type": "stream",
     "text": [
      "['https://www.example.com', 'http://example.org', 'https://another-example.com/path?arg=val']\n"
     ]
    }
   ],
   "source": [
    "import re\n",
    "string = \"\"\"\n",
    "Visit https://www.example.com or follow http://example.org.\n",
    "You can also check out https://another-example.com/path?arg=val for more details.\n",
    "\"\"\"\n",
    "final = re.findall(r\"\\bhttps*:[\\S]+\\b\", string)\n",
    "print(final)"
   ]
  },
  {
   "cell_type": "markdown",
   "metadata": {},
   "source": [
    "4 Task: Find all hashtags in a comment\n",
    "\t\"Loving the #sunset and #nature! #beautiful_day\""
   ]
  },
  {
   "cell_type": "code",
   "execution_count": 56,
   "metadata": {},
   "outputs": [
    {
     "name": "stdout",
     "output_type": "stream",
     "text": [
      "['#sunset', '#nature!', '#beautiful_day']\n"
     ]
    }
   ],
   "source": [
    "import re\n",
    "string = \"Loving the #sunset and #nature! #beautiful_day\"\n",
    "final = re.findall(r\"#[\\w\\!]+\", string)\n",
    "print(final)"
   ]
  },
  {
   "cell_type": "markdown",
   "metadata": {},
   "source": [
    "5 Task: Remove the repeated words\n",
    "\t\"This is is a test test string.\""
   ]
  },
  {
   "cell_type": "code",
   "execution_count": 104,
   "metadata": {},
   "outputs": [
    {
     "name": "stdout",
     "output_type": "stream",
     "text": [
      "This is a test string.\n"
     ]
    }
   ],
   "source": [
    "import re\n",
    "string = \"This is is a test test string.\"\n",
    "final = re.sub(r\"(\\b\\w+\\b)\\s*\\1\", r'\\1', string)\n",
    "print(final)"
   ]
  }
 ],
 "metadata": {
  "kernelspec": {
   "display_name": "Python 3",
   "language": "python",
   "name": "python3"
  },
  "language_info": {
   "codemirror_mode": {
    "name": "ipython",
    "version": 3
   },
   "file_extension": ".py",
   "mimetype": "text/x-python",
   "name": "python",
   "nbconvert_exporter": "python",
   "pygments_lexer": "ipython3",
   "version": "3.12.7"
  }
 },
 "nbformat": 4,
 "nbformat_minor": 2
}
